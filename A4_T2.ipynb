{
 "cells": [
  {
   "cell_type": "markdown",
   "id": "637e103f",
   "metadata": {},
   "source": [
    "# Assignment A3\n",
    "This Jupyter Notebook file is very simple. First, a shapefile is loaded using\n",
    "GeoPandas and then visualized."
   ]
  },
  {
   "cell_type": "code",
   "execution_count": null,
   "id": "e911a7ff",
   "metadata": {},
   "outputs": [],
   "source": [
    "import geopandas as gpd\n",
    "FILE = \"path/to/your_shapefile.shp\"\n",
    "gdf = gpd.read_file(FILE)"
   ]
  },
  {
   "cell_type": "code",
   "execution_count": null,
   "id": "0ff7b7b3",
   "metadata": {},
   "outputs": [],
   "source": [
    "gdf.explore()"
   ]
  }
 ],
 "metadata": {
  "language_info": {
   "name": "python"
  }
 },
 "nbformat": 4,
 "nbformat_minor": 5
}
